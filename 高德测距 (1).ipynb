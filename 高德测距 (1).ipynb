{
  "nbformat": 4,
  "nbformat_minor": 0,
  "metadata": {
    "colab": {
      "name": "高德测距.ipynb",
      "provenance": [],
      "toc_visible": true
    },
    "kernelspec": {
      "display_name": "Python 3",
      "language": "python",
      "name": "python3"
    },
    "language_info": {
      "codemirror_mode": {
        "name": "ipython",
        "version": 3
      },
      "file_extension": ".py",
      "mimetype": "text/x-python",
      "name": "python",
      "nbconvert_exporter": "python",
      "pygments_lexer": "ipython3",
      "version": "3.8.3"
    }
  },
  "cells": [
    {
      "cell_type": "code",
      "metadata": {
        "id": "wOx0iJLGPk1R"
      },
      "source": [
        "import pandas as pd\n",
        "data = pd.read_excel('测距表.xlsx')"
      ],
      "execution_count": 1,
      "outputs": []
    },
    {
      "cell_type": "markdown",
      "metadata": {
        "id": "Q8CS75STRkkO"
      },
      "source": [
        "# 数据处理"
      ]
    },
    {
      "cell_type": "markdown",
      "metadata": {
        "id": "yBj9HXyETPpN"
      },
      "source": [
        "高德测距原始数据中，数据集须有元素名称，测试目标品牌，门店名称，将数据按测试门店品牌分开。此外，需要添加一列元素与门店所属城市列，命名为“城市”，并将数据按不同城市分开。\n",
        "<p><font color=\"red\"> Leo: 可以给出一份样例数据，方便大家知道一个标准的input长什么样子 <font/><p/>"
      ]
    },
    {
      "cell_type": "code",
      "metadata": {
        "colab": {
          "base_uri": "https://localhost:8080/",
          "height": 306
        },
        "id": "JO5X4gYJtzTZ",
        "outputId": "0562b133-f1c5-4078-975b-646915c449c2"
      },
      "source": [
        "data.head()"
      ],
      "execution_count": 2,
      "outputs": [
        {
          "output_type": "execute_result",
          "data": {
            "text/html": [
              "<div>\n",
              "<style scoped>\n",
              "    .dataframe tbody tr th:only-of-type {\n",
              "        vertical-align: middle;\n",
              "    }\n",
              "\n",
              "    .dataframe tbody tr th {\n",
              "        vertical-align: top;\n",
              "    }\n",
              "\n",
              "    .dataframe thead th {\n",
              "        text-align: right;\n",
              "    }\n",
              "</style>\n",
              "<table border=\"1\" class=\"dataframe\">\n",
              "  <thead>\n",
              "    <tr style=\"text-align: right;\">\n",
              "      <th></th>\n",
              "      <th>项目插旗编号</th>\n",
              "      <th>项目类型</th>\n",
              "      <th>门店编号</th>\n",
              "      <th>门店名称</th>\n",
              "      <th>城市</th>\n",
              "      <th>元素编号</th>\n",
              "      <th>元素名称</th>\n",
              "      <th>测距</th>\n",
              "      <th>目标测距编号</th>\n",
              "      <th>目标类型</th>\n",
              "      <th>测距目标品牌</th>\n",
              "      <th>门店名称.1</th>\n",
              "    </tr>\n",
              "  </thead>\n",
              "  <tbody>\n",
              "    <tr>\n",
              "      <th>0</th>\n",
              "      <td>CY15-1127</td>\n",
              "      <td>1</td>\n",
              "      <td>100033005.0</td>\n",
              "      <td>朝阳北路北京像素南区6号楼店</td>\n",
              "      <td>北京</td>\n",
              "      <td>CY15-3374</td>\n",
              "      <td>北京像素客流量</td>\n",
              "      <td></td>\n",
              "      <td>CY15-2742</td>\n",
              "      <td>2</td>\n",
              "      <td>711</td>\n",
              "      <td>7-11（草房二号店）</td>\n",
              "    </tr>\n",
              "    <tr>\n",
              "      <th>1</th>\n",
              "      <td>CY15-1127</td>\n",
              "      <td>1</td>\n",
              "      <td>100033005.0</td>\n",
              "      <td>朝阳北路北京像素南区6号楼店</td>\n",
              "      <td>北京</td>\n",
              "      <td>CY15-3374</td>\n",
              "      <td>北京像素客流量</td>\n",
              "      <td></td>\n",
              "      <td>CY15-1127</td>\n",
              "      <td>1</td>\n",
              "      <td>便利峰</td>\n",
              "      <td>朝阳北路北京像素南区6号楼店</td>\n",
              "    </tr>\n",
              "    <tr>\n",
              "      <th>2</th>\n",
              "      <td>CY2-133</td>\n",
              "      <td>1</td>\n",
              "      <td>100003002.0</td>\n",
              "      <td>现代城中路SOHO现代城南侧A座店</td>\n",
              "      <td>北京</td>\n",
              "      <td>CY2-1131</td>\n",
              "      <td>SOHO现代城-B座</td>\n",
              "      <td></td>\n",
              "      <td>CY2-1099</td>\n",
              "      <td>2</td>\n",
              "      <td>711</td>\n",
              "      <td>7-11(现代城D座)</td>\n",
              "    </tr>\n",
              "    <tr>\n",
              "      <th>3</th>\n",
              "      <td>CY2-133</td>\n",
              "      <td>1</td>\n",
              "      <td>100003002.0</td>\n",
              "      <td>现代城中路SOHO现代城南侧A座店</td>\n",
              "      <td>北京</td>\n",
              "      <td>CY2-1132</td>\n",
              "      <td>SOHO现代城-A座</td>\n",
              "      <td></td>\n",
              "      <td>CY2-1099</td>\n",
              "      <td>2</td>\n",
              "      <td>711</td>\n",
              "      <td>7-11(现代城D座)</td>\n",
              "    </tr>\n",
              "    <tr>\n",
              "      <th>4</th>\n",
              "      <td>CY2-133</td>\n",
              "      <td>1</td>\n",
              "      <td>100003002.0</td>\n",
              "      <td>现代城中路SOHO现代城南侧A座店</td>\n",
              "      <td>北京</td>\n",
              "      <td>CY2-1382</td>\n",
              "      <td>现代城底商</td>\n",
              "      <td></td>\n",
              "      <td>CY2-1100</td>\n",
              "      <td>2</td>\n",
              "      <td>全家</td>\n",
              "      <td>全家(现代中路店）</td>\n",
              "    </tr>\n",
              "  </tbody>\n",
              "</table>\n",
              "</div>"
            ],
            "text/plain": [
              "      项目插旗编号  项目类型         门店编号  ... 目标类型 测距目标品牌          门店名称.1\n",
              "0  CY15-1127     1  100033005.0  ...    2    711     7-11（草房二号店）\n",
              "1  CY15-1127     1  100033005.0  ...    1    便利峰  朝阳北路北京像素南区6号楼店\n",
              "2    CY2-133     1  100003002.0  ...    2    711     7-11(现代城D座)\n",
              "3    CY2-133     1  100003002.0  ...    2    711     7-11(现代城D座)\n",
              "4    CY2-133     1  100003002.0  ...    2     全家       全家(现代中路店）\n",
              "\n",
              "[5 rows x 12 columns]"
            ]
          },
          "metadata": {
            "tags": []
          },
          "execution_count": 2
        }
      ]
    },
    {
      "cell_type": "code",
      "metadata": {
        "id": "syatl_n3DQ9u"
      },
      "source": [
        "# 合成便利蜂门店名称\n",
        "def merge_bee(data):\n",
        "    for i in range(len(data)):\n",
        "        if data.loc[i,'测距目标品牌']=='便利蜂':\n",
        "            data.loc[i,'门店名称']='便利蜂'+data.loc[i,'门店名称']\n",
        "    return data"
      ],
      "execution_count": 3,
      "outputs": []
    },
    {
      "cell_type": "code",
      "metadata": {
        "id": "yNEnDomw1OA4"
      },
      "source": [
        "# 清理711门店名称\n",
        "# 可清理大部分711门店数据\n",
        "def clean_711(data):\n",
        "    for i in range(len(data)):\n",
        "        if data.loc[i,'测距目标品牌']=='711':\n",
        "            if data['城市'] != '上海':\n",
        "                data.loc[i,'门店名称']=str(data.loc[i,'a.competitor_name'])\n",
        "                if data.loc[i,'门店名称'][:3] == '711':\n",
        "                    data.loc[i,'门店名称']=data.loc[i,'a.competitor_name'][3:]\n",
        "                if data.loc[i,'门店名称'][:4] == '7-11':\n",
        "                    data.loc[i,'门店名称']=data.loc[i,'a.competitor_name'][4:]\n",
        "                if data.loc[i,'门店名称'][:6] == '711便利店':\n",
        "                    data.loc[i,'门店名称']=data.loc[i,'门店名称'][6:]\n",
        "    return data"
      ],
      "execution_count": 4,
      "outputs": []
    },
    {
      "cell_type": "code",
      "metadata": {
        "id": "BnPYC-X7SFXq"
      },
      "source": [
        "\n",
        "def merge_name(data):\n",
        "  # 711推荐标准名称：7-ELEVEn\n",
        "  # data['测距目标品牌']='7-ELEVEn'\n",
        "    for i in range(len(data)):\n",
        "        if data.loc[i,'测距目标品牌'] == '711':\n",
        "            data.loc[i,'测距目标品牌']=str(data.loc[i,'测距目标品牌'])\n",
        "            #data['门店名称']='('+data['门店名称']+')' \n",
        "            data.loc[i,'门店名称']='7-ELEVEn'+data.loc[i,'门店名称']\n",
        "    return data"
      ],
      "execution_count": 5,
      "outputs": []
    },
    {
      "cell_type": "markdown",
      "metadata": {
        "id": "odL_OptAbgW4"
      },
      "source": [
        "建议711测试品牌名称为“7-ELEVEn”。上海711门店多以“7-11”开头，建议单独将上海711命名为“7-11”。\n",
        "完成以上初步数据处理后，应将所有711门店手动在地图上检测，如非高德系统内711门店名称，需修改为高德系统命名。（大部分情况下无法利用数据中门店名称在高德上搜索到相关711门店，建议搜索商圈，利用搜周边功能搜索商圈周围711门店。"
      ]
    },
    {
      "cell_type": "code",
      "metadata": {
        "id": "eOQw6fI2ZCOB"
      },
      "source": [
        "# 去“总旗”，“客流量”，“底商”，可清理大部分数据\n",
        "def clean(data):\n",
        "  for i in range(len(data)):\n",
        "    if data.loc[i,'元素名称'][:3] == '总旗-':\n",
        "      data.loc[i,'元素名称']=data.loc[i,'元素名称'][3:]\n",
        "\n",
        "    if data.loc[i,'元素名称'][:2] == '总旗':\n",
        "      data.loc[i,'元素名称']=data.loc[i,'元素名称'][2:]\n",
        "\n",
        "    if data.loc[i,'元素名称'][-2:] == '总旗':\n",
        "      data.loc[i,'元素名称']=data.loc[i,'元素名称'][:-2]\n",
        "\n",
        "    if data.loc[i,'元素名称'][-2:] == '底商':\n",
        "        data.loc[i,'元素名称']=data.loc[i,'元素名称'][:-2]\n",
        "    \n",
        "    if data.loc[i,'元素名称'][-3:] == '客流量':\n",
        "        data.loc[i,'元素名称']=data.loc[i,'元素名称'][:-3]\n",
        "  return data"
      ],
      "execution_count": 6,
      "outputs": []
    },
    {
      "cell_type": "markdown",
      "metadata": {
        "id": "mv7IWVLWr2ry"
      },
      "source": [
        "<font color=\"red\"> Leo: 此处只有“总旗”一例可以统一处理的情况吗？ <font/>"
      ]
    },
    {
      "cell_type": "markdown",
      "metadata": {
        "id": "0-P3aG_Ec4S-"
      },
      "source": [
        "为提高高德api测距精准度，元素名称建议标明分店名称\n",
        "\n",
        "---\n",
        "\n"
      ]
    },
    {
      "cell_type": "markdown",
      "metadata": {
        "id": "wKWVixefRpTG"
      },
      "source": [
        "# 高德API测距"
      ]
    },
    {
      "cell_type": "markdown",
      "metadata": {
        "id": "NYlw2DFkdQWl"
      },
      "source": [
        "### 北京门店高德API测距爬虫代码"
      ]
    },
    {
      "cell_type": "code",
      "metadata": {
        "id": "jAkmscPldThN"
      },
      "source": [
        "import requests\n",
        "import json\n",
        "def get_address(city,keywords,key='89653f400f20be155cfd3f5d91eb57e9'):\n",
        "    '''返回查询地址名和该地址的经纬度'''                                \n",
        "    result = {}\n",
        "    url1 = 'https://restapi.amap.com/v3/place/text?parameters'     # 关键词搜索API\n",
        "    params = {'key':key,                  # 参数：申请的高德api密钥\n",
        "              'keywords': keywords,\n",
        "              'city': city}    #因为不同城市同名地存在概率很高，所以每一次搜索要限制地理位置     \n",
        "    try:\n",
        "        res = requests.get(url1,params)        \n",
        "        jd = json.loads(res.text)#解析json文件                  \n",
        "        result['coord'] = jd['pois'][0]['location'] #返回经纬度\n",
        "        return result\n",
        "    \n",
        "    except:\n",
        "        result['coord'] = '未获取经纬度'\n",
        "        return result\n",
        "\n",
        "def get_dis(a,b,key='89653f400f20be155cfd3f5d91eb57e9'):\n",
        "    '''返回a到b的步行距离,其中a、b格式为经纬度'''\n",
        "    url2 = 'https://restapi.amap.com/v3/direction/walking?parameters'          # 高德路径规划API\n",
        "    params = {'key': key,\n",
        "              'origin': a,         # 起点坐标\n",
        "              'destination': b,       # 终点坐标 \n",
        "              'extensions' : 'base'\n",
        "             }    \n",
        "    try:\n",
        "        res = requests.get(url2, params)\n",
        "        jd = json.loads(res.text)                           # 将数据由json格式转为Python字典\n",
        "        distance = jd['route']['paths'][0]['distance']\n",
        "        return eval(distance)\n",
        "    except: \n",
        "        error = 'ND'\n",
        "        \n",
        "        return error\n",
        "def get_output(data):\n",
        "  # 将产出的测距数据加到原数据集中\n",
        "  se_distance=[]\n",
        "  for i in range(len(data)):\n",
        "    aa=data.loc[i,'元素名称']\n",
        "    bb=data.loc[i,'门店名称']\n",
        "    city=data.loc[i,'城市']\n",
        "    a = get_address(city,aa)\n",
        "    b = get_address(city,bb)\n",
        "    k=get_dis(a['coord'],b['coord'])\n",
        "    se_distance.append(k)\n",
        "  return se_distance"
      ],
      "execution_count": 11,
      "outputs": []
    },
    {
      "cell_type": "markdown",
      "metadata": {
        "id": "tdL-e6eBh6dI"
      },
      "source": [
        "### 注： 使用该代码需要自行补充自己申请的高德api密钥"
      ]
    },
    {
      "cell_type": "markdown",
      "metadata": {
        "id": "bSR6XrnZn9dR"
      },
      "source": [
        "所有数据按流程进行全面处理后，预计能够爬取98.5%的数据"
      ]
    },
    {
      "cell_type": "markdown",
      "metadata": {
        "id": "quL1w_kGRpDu"
      },
      "source": [
        "# 筛选输出项"
      ]
    },
    {
      "cell_type": "code",
      "metadata": {
        "id": "NtwEF7FuRXQX"
      },
      "source": [
        "def filter(distance):       # 该函数将所有测距数据进行筛选，分成高置信与低置信数据\n",
        "    threshold1=500\n",
        "    threshold2=7         #该阈值是通过观察训练数据集得出，测距超过700米的数据，其门店与元素名称不准确的概率增加\n",
        "    for i in range(len(data)):\n",
        "        if distance[i] != 'ND':\n",
        "            if (data.loc[i,'测距']>threshold1) | (data.loc[i,'测距']<=threshold2):\n",
        "                data.loc[i,'测距']='LC'    #LC = Low Confidence \n",
        "    return distance\n",
        "def merge(data,distance):\n",
        "    data['测距']=distance\n",
        "    return data\n",
        "def out(data):\n",
        "    data.to_excel('竞对测距.xlsx',index=False)\n"
      ],
      "execution_count": 8,
      "outputs": []
    },
    {
      "cell_type": "markdown",
      "metadata": {
        "id": "tRLEuvgvW8As"
      },
      "source": [
        "## 总"
      ]
    },
    {
      "cell_type": "code",
      "metadata": {
        "id": "Gaz0V5GYXHr3"
      },
      "source": [
        "def fetch(data):\n",
        "    data=merge_bee(data)\n",
        "    data=clean_711(data)\n",
        "    data=merge_name(data)\n",
        "    data=clean(data)\n",
        "    distance=get_output(data)\n",
        "    distance=filter(distance)\n",
        "    data=merge(data,distance)\n",
        "    out(data)"
      ],
      "execution_count": 9,
      "outputs": []
    },
    {
      "cell_type": "code",
      "metadata": {
        "id": "1x5svGMjF-YV"
      },
      "source": [
        "fetch(data)"
      ],
      "execution_count": 12,
      "outputs": []
    }
  ]
}